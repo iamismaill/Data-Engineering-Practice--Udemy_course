{
  "cells": [
    {
      "cell_type": "markdown",
      "metadata": {},
      "source": [
        "## Reading files into collections\n",
        "\n",
        "Let us understand how to read data from files into collections.\n",
        "* Python have simple and yet rich APIs to perform file I/O\n",
        "* We can create a file object with open in different modes (by default read only mode)\n",
        "* To read the contents from the file into memory, we have APIs on top of file object such as read()\n",
        "* read() will create large string using contents of the files\n",
        "* If the data have multiple records with new line character as delimiter, we can apply splitlines() on the output of read\n",
        "* splitlines() will convert the string into list with new line character as delimiter"
      ]
    },
    {
      "cell_type": "code",
      "execution_count": null,
      "metadata": {},
      "outputs": [],
      "source": [
        "%%sh\n",
        "\n",
        "ls -ltr /data/retail_db/orders/part-00000"
      ]
    },
    {
      "cell_type": "code",
      "execution_count": null,
      "metadata": {},
      "outputs": [],
      "source": [
        "%%sh\n",
        "\n",
        "tail /data/retail_db/orders/part-00000"
      ]
    },
    {
      "cell_type": "code",
      "execution_count": 67,
      "metadata": {},
      "outputs": [],
      "source": [
        "file_path = '/home/iamismail/다운로드/DataEngineering/data-engineering-spark/data/retail_db/orders/part-00000'\n",
        "order_file = open(file_path)"
      ]
    },
    {
      "cell_type": "code",
      "execution_count": 68,
      "metadata": {},
      "outputs": [
        {
          "data": {
            "text/plain": [
              "str"
            ]
          },
          "execution_count": 68,
          "metadata": {},
          "output_type": "execute_result"
        }
      ],
      "source": [
        "##let's put the memorry in our file \n",
        "order_raw = order_file.read()\n",
        "type(order_raw)"
      ]
    },
    {
      "cell_type": "code",
      "execution_count": 69,
      "metadata": {},
      "outputs": [
        {
          "data": {
            "text/plain": [
              "list"
            ]
          },
          "execution_count": 69,
          "metadata": {},
          "output_type": "execute_result"
        }
      ],
      "source": [
        "#splitlines() function will return list \n",
        "orders = order_raw.splitlines()\n",
        "type(orders)"
      ]
    },
    {
      "cell_type": "code",
      "execution_count": 70,
      "metadata": {},
      "outputs": [
        {
          "data": {
            "text/plain": [
              "['1,2013-07-25 00:00:00.0,11599,CLOSED',\n",
              " '2,2013-07-25 00:00:00.0,256,PENDING_PAYMENT',\n",
              " '3,2013-07-25 00:00:00.0,12111,COMPLETE',\n",
              " '4,2013-07-25 00:00:00.0,8827,CLOSED',\n",
              " '5,2013-07-25 00:00:00.0,11318,COMPLETE',\n",
              " '6,2013-07-25 00:00:00.0,7130,COMPLETE',\n",
              " '7,2013-07-25 00:00:00.0,4530,COMPLETE',\n",
              " '8,2013-07-25 00:00:00.0,2911,PROCESSING',\n",
              " '9,2013-07-25 00:00:00.0,5657,PENDING_PAYMENT',\n",
              " '10,2013-07-25 00:00:00.0,5648,PENDING_PAYMENT']"
            ]
          },
          "execution_count": 70,
          "metadata": {},
          "output_type": "execute_result"
        }
      ],
      "source": [
        "orders[:10]"
      ]
    },
    {
      "cell_type": "code",
      "execution_count": 71,
      "metadata": {},
      "outputs": [
        {
          "data": {
            "text/plain": [
              "68883"
            ]
          },
          "execution_count": 71,
          "metadata": {},
          "output_type": "execute_result"
        }
      ],
      "source": [
        "len(orders)"
      ]
    },
    {
      "cell_type": "code",
      "execution_count": 72,
      "metadata": {},
      "outputs": [
        {
          "data": {
            "text/plain": [
              "['1,2013-07-25 00:00:00.0,11599,CLOSED',\n",
              " '2,2013-07-25 00:00:00.0,256,PENDING_PAYMENT',\n",
              " '3,2013-07-25 00:00:00.0,12111,COMPLETE',\n",
              " '4,2013-07-25 00:00:00.0,8827,CLOSED',\n",
              " '5,2013-07-25 00:00:00.0,11318,COMPLETE',\n",
              " '6,2013-07-25 00:00:00.0,7130,COMPLETE',\n",
              " '7,2013-07-25 00:00:00.0,4530,COMPLETE',\n",
              " '8,2013-07-25 00:00:00.0,2911,PROCESSING',\n",
              " '9,2013-07-25 00:00:00.0,5657,PENDING_PAYMENT',\n",
              " '10,2013-07-25 00:00:00.0,5648,PENDING_PAYMENT']"
            ]
          },
          "execution_count": 72,
          "metadata": {},
          "output_type": "execute_result"
        }
      ],
      "source": [
        "orders[:10]"
      ]
    },
    {
      "cell_type": "code",
      "execution_count": null,
      "metadata": {},
      "outputs": [],
      "source": [
        "len(orders) # same as number of records in the file"
      ]
    },
    {
      "cell_type": "code",
      "execution_count": null,
      "metadata": {},
      "outputs": [],
      "source": [
        "##Row level transformations \n",
        "## our data is in text file format ##each line is sperated by coma \n",
        "                                    #order_id , order_date, order_customer_id,order_status"
      ]
    },
    {
      "cell_type": "code",
      "execution_count": 25,
      "metadata": {},
      "outputs": [
        {
          "data": {
            "text/plain": [
              "'1,CLOSED'"
            ]
          },
          "execution_count": 25,
          "metadata": {},
          "output_type": "execute_result"
        }
      ],
      "source": [
        "##Task One : Get all order ids and associated statuses -> ('1,Closed')\n",
        "##.join function : we use to concate two list in one string \n",
        "orders[:10]\n",
        "one_order ='1,2013-07-25 00:00:00.0,11599,CLOSED'\n",
        "one_order.split(',')[0]\n",
        "one_order.split(',')[3]\n",
        "\n",
        "','.join([one_order.split(',')[0],one_order.split(',')[3]])"
      ]
    },
    {
      "cell_type": "code",
      "execution_count": 36,
      "metadata": {},
      "outputs": [],
      "source": [
        "order_statuses = []\n",
        "for order in orders:\n",
        "    order_statuses.append(','.join([order.split(',')[0],order.split(',')[3]]))\n",
        "    "
      ]
    },
    {
      "cell_type": "code",
      "execution_count": 37,
      "metadata": {},
      "outputs": [
        {
          "data": {
            "text/plain": [
              "['1,CLOSED', '2,PENDING_PAYMENT', '3,COMPLETE', '4,CLOSED', '5,COMPLETE']"
            ]
          },
          "execution_count": 37,
          "metadata": {},
          "output_type": "execute_result"
        }
      ],
      "source": [
        "order_statuses[:5]"
      ]
    },
    {
      "cell_type": "code",
      "execution_count": 40,
      "metadata": {},
      "outputs": [
        {
          "data": {
            "text/plain": [
              "['68883', '2014-07-23 00:00:00.0', '5533', 'COMPLETE']"
            ]
          },
          "execution_count": 40,
          "metadata": {},
          "output_type": "execute_result"
        }
      ],
      "source": [
        "order_values = order.split(',')\n",
        "order_values"
      ]
    },
    {
      "cell_type": "code",
      "execution_count": 50,
      "metadata": {},
      "outputs": [],
      "source": [
        "##Task Two :Get all order ids , the dates on which order is places and order status \n",
        "##each record in the ouput should be dict with these columns order_id,order_date,order_status\n",
        "\n",
        "def get_order_details(order):\n",
        "    order_values = order.split(',')\n",
        "\n",
        "    return({\n",
        "        'order_id' :int(order_values[0]),\n",
        "        'order_date':order_values[1],\n",
        "        'order_status':order_values[3]\n",
        "    })"
      ]
    },
    {
      "cell_type": "code",
      "execution_count": 51,
      "metadata": {},
      "outputs": [
        {
          "data": {
            "text/plain": [
              "{'order_id': 68883,\n",
              " 'order_date': ' 2014-07-23 00:00:00.0',\n",
              " 'order_status': ' COMPLETE'}"
            ]
          },
          "execution_count": 51,
          "metadata": {},
          "output_type": "execute_result"
        }
      ],
      "source": [
        "get_order_details('68883, 2014-07-23 00:00:00.0, 5533, COMPLETE')"
      ]
    },
    {
      "cell_type": "code",
      "execution_count": 53,
      "metadata": {},
      "outputs": [
        {
          "data": {
            "text/plain": [
              "[{'order_id': 1,\n",
              "  'order_date': '2013-07-25 00:00:00.0',\n",
              "  'order_status': 'CLOSED'},\n",
              " {'order_id': 2,\n",
              "  'order_date': '2013-07-25 00:00:00.0',\n",
              "  'order_status': 'PENDING_PAYMENT'},\n",
              " {'order_id': 3,\n",
              "  'order_date': '2013-07-25 00:00:00.0',\n",
              "  'order_status': 'COMPLETE'},\n",
              " {'order_id': 4,\n",
              "  'order_date': '2013-07-25 00:00:00.0',\n",
              "  'order_status': 'CLOSED'}]"
            ]
          },
          "execution_count": 53,
          "metadata": {},
          "output_type": "execute_result"
        }
      ],
      "source": [
        "empty_list = []\n",
        "for item in orders:\n",
        "\n",
        "    data =     get_order_details(item)\n",
        "    empty_list.append(data)\n",
        "empty_list[:4]\n"
      ]
    },
    {
      "cell_type": "code",
      "execution_count": 87,
      "metadata": {},
      "outputs": [
        {
          "data": {
            "text/plain": [
              "['2014-02-27 00:00:00.0',\n",
              " '2014-03-25 00:00:00.0',\n",
              " '2014-03-31 00:00:00.0',\n",
              " '2013-08-08 00:00:00.0',\n",
              " '2013-08-19 00:00:00.0',\n",
              " '2013-10-08 00:00:00.0',\n",
              " '2014-05-27 00:00:00.0',\n",
              " '2014-02-13 00:00:00.0',\n",
              " '2014-03-17 00:00:00.0',\n",
              " '2014-05-08 00:00:00.0']"
            ]
          },
          "execution_count": 87,
          "metadata": {},
          "output_type": "execute_result"
        }
      ],
      "source": [
        "##Task Three : get all unique dates from order data \n",
        "## Hint : in set we only use unique data \n",
        "unique_dates =set()\n",
        "\n",
        "for order_date in orders:\n",
        "   \n",
        "    unique_dates.add(order_date.split(',')[1])\n",
        "list(unique_dates)[:10]"
      ]
    },
    {
      "cell_type": "code",
      "execution_count": 140,
      "metadata": {},
      "outputs": [],
      "source": [
        "##Get all unique weekend dates from order data \n",
        "import datetime as dt \n",
        " \n",
        "def is_get_unique_weekend(order_date):\n",
        "   return dt.datetime.strptime(order_date,'%Y-%m-%d %H:%M:%S.%f').weekday() in (5,6)\n",
        "    "
      ]
    },
    {
      "cell_type": "code",
      "execution_count": 142,
      "metadata": {},
      "outputs": [
        {
          "data": {
            "text/plain": [
              "['2014-01-05 00:00:00.0',\n",
              " '2013-11-09 00:00:00.0',\n",
              " '2013-07-28 00:00:00.0',\n",
              " '2013-12-28 00:00:00.0',\n",
              " '2013-12-08 00:00:00.0',\n",
              " '2014-01-12 00:00:00.0',\n",
              " '2013-08-03 00:00:00.0',\n",
              " '2014-04-20 00:00:00.0',\n",
              " '2014-01-11 00:00:00.0',\n",
              " '2014-06-15 00:00:00.0']"
            ]
          },
          "execution_count": 142,
          "metadata": {},
          "output_type": "execute_result"
        }
      ],
      "source": [
        "weekend_dates = set()\n",
        "for order in orders :\n",
        "    order_date = order.split(',')[1]\n",
        "\n",
        "    if is_get_unique_weekend(order_date):\n",
        "        weekend_dates.add(order_date)\n",
        "list(weekend_dates)[:10]"
      ]
    },
    {
      "cell_type": "code",
      "execution_count": 149,
      "metadata": {},
      "outputs": [
        {
          "data": {
            "text/plain": [
              "11599"
            ]
          },
          "execution_count": 149,
          "metadata": {},
          "output_type": "execute_result"
        }
      ],
      "source": [
        "##Task four : create function which takes orders list and customer_id and return all the orders place by \n",
        " ##customerid \n",
        "one_order = '1,2013-07-25 00:00:00.0,11599,CLOSED'\n",
        "order = int(one_order.split(',')[2])\n",
        "order"
      ]
    },
    {
      "cell_type": "code",
      "execution_count": 151,
      "metadata": {},
      "outputs": [],
      "source": [
        "def get_customes_orders(orders,customer_id):\n",
        "    orders_filtered = []\n",
        "    for order in orders:\n",
        "        if (int(order.split(',')[2])==customer_id):\n",
        "            orders_filtered.append(order)\n",
        "    \n",
        "    return orders_filtered"
      ]
    },
    {
      "cell_type": "code",
      "execution_count": 152,
      "metadata": {},
      "outputs": [
        {
          "data": {
            "text/plain": [
              "['1,2013-07-25 00:00:00.0,11599,CLOSED',\n",
              " '11397,2013-10-03 00:00:00.0,11599,COMPLETE',\n",
              " '23908,2013-12-20 00:00:00.0,11599,COMPLETE',\n",
              " '53545,2014-06-27 00:00:00.0,11599,PENDING',\n",
              " '59911,2013-10-17 00:00:00.0,11599,PROCESSING']"
            ]
          },
          "execution_count": 152,
          "metadata": {},
          "output_type": "execute_result"
        }
      ],
      "source": [
        "get_customes_orders(orders,11599)"
      ]
    },
    {
      "cell_type": "code",
      "execution_count": 186,
      "metadata": {},
      "outputs": [],
      "source": [
        "##Task five: create function that can return all the orders placed by customer_id for a given month \n",
        " \n",
        "def get_custom_orders(orders, customer_id,order_month):\n",
        "    orders_filtered =[]\n",
        "    for order in orders:\n",
        "          if int(order.split(',')[2]) == customer_id and order.split(',')[1].startswith(order_month) :\n",
        "\n",
        "              orders_filtered.append(order)\n",
        "    return orders_filtered\n"
      ]
    },
    {
      "cell_type": "code",
      "execution_count": 187,
      "metadata": {},
      "outputs": [
        {
          "data": {
            "text/plain": [
              "['27585,2014-01-12 00:00:00.0,12431,PROCESSING',\n",
              " '28244,2014-01-15 00:00:00.0,12431,PENDING_PAYMENT',\n",
              " '29109,2014-01-21 00:00:00.0,12431,ON_HOLD',\n",
              " '29232,2014-01-21 00:00:00.0,12431,ON_HOLD']"
            ]
          },
          "execution_count": 187,
          "metadata": {},
          "output_type": "execute_result"
        }
      ],
      "source": [
        "get_custom_orders(orders,12431,'2014-01')"
      ]
    },
    {
      "cell_type": "code",
      "execution_count": 183,
      "metadata": {},
      "outputs": [],
      "source": [
        "##Task Six : write function which can get all the orders place by customer 12431 in january 2014 and status is PENDING PAYMENT OR PROCESSING \n",
        "\n",
        "def get_custom_orders (orders,customer_id, order_date , order_status):\n",
        "    orders_filtered = []\n",
        "    orders_status =['PENDING_PAYMENT','PROCESSING']\n",
        "    for order in orders :\n",
        "\n",
        "\n",
        "        if int(order.split(',')[2]) == customer_id and order.split(',')[1].startswith(order_date) and order.split(',')[3] == 'PENDING_PAYMENT':\n",
        "            orders_filtered.append(order)\n",
        "        return orders_filtered\n"
      ]
    },
    {
      "cell_type": "code",
      "execution_count": 194,
      "metadata": {},
      "outputs": [
        {
          "name": "stdout",
          "output_type": "stream",
          "text": [
            "27585,2014-01-12 00:00:00.0,12431,PROCESSING\n",
            "28244,2014-01-15 00:00:00.0,12431,PENDING_PAYMENT\n"
          ]
        }
      ],
      "source": [
        "for order in orders :\n",
        "    if (int(order.split(',')[2]) ==12431 \\\n",
        "         and order.split(',')[1].startswith('2014-01') \n",
        "         and order.split(',')[3] in ('PENDING_PAYMENT','PROCESSING')):\n",
        "     print(order)\n",
        " \n"
      ]
    },
    {
      "cell_type": "code",
      "execution_count": 184,
      "metadata": {},
      "outputs": [
        {
          "data": {
            "text/plain": [
              "[]"
            ]
          },
          "execution_count": 184,
          "metadata": {},
          "output_type": "execute_result"
        }
      ],
      "source": [
        "orders_status =['PENDING_PAYMENT','PROCESSING']\n",
        "get_custom_orders(orders,12431,'2014-01','PENDING_PAYMENT')"
      ]
    }
  ],
  "metadata": {
    "interpreter": {
      "hash": "336d0fd160d94e0e0f6591eaf10611da6cd73f7da6c7ea5a76062720089abcab"
    },
    "kernelspec": {
      "display_name": "Python 3.9.7 ('base')",
      "language": "python",
      "name": "python3"
    },
    "language_info": {
      "codemirror_mode": {
        "name": "ipython",
        "version": 3
      },
      "file_extension": ".py",
      "mimetype": "text/x-python",
      "name": "python",
      "nbconvert_exporter": "python",
      "pygments_lexer": "ipython3",
      "version": "3.9.7"
    }
  },
  "nbformat": 4,
  "nbformat_minor": 4
}
